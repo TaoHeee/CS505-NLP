{
  "nbformat": 4,
  "nbformat_minor": 0,
  "metadata": {
    "colab": {
      "provenance": [],
      "collapsed_sections": []
    },
    "kernelspec": {
      "name": "python3",
      "display_name": "Python 3"
    },
    "language_info": {
      "name": "python"
    }
  },
  "cells": [
    {
      "cell_type": "markdown",
      "source": [
        "## CS 505 – Assignment One\n",
        "  Name: Tao He\n",
        "  \n",
        "  Discussion Partner: Yifan Zhang\n",
        "\n",
        "  Date: 09/18/2022\n",
        "  \n",
        "---\n",
        "\n"
      ],
      "metadata": {
        "id": "e_BEZ2pt-8lS"
      }
    },
    {
      "cell_type": "code",
      "execution_count": 1,
      "metadata": {
        "id": "ASUakUd_93OB",
        "colab": {
          "base_uri": "https://localhost:8080/",
          "height": 0
        },
        "outputId": "0b3090cb-e14e-49d2-b839-169540a5875f"
      },
      "outputs": [
        {
          "output_type": "stream",
          "name": "stdout",
          "text": [
            "Drive already mounted at /content/drive; to attempt to forcibly remount, call drive.mount(\"/content/drive\", force_remount=True).\n"
          ]
        }
      ],
      "source": [
        "from google.colab import drive\n",
        "drive.mount('/content/drive')"
      ]
    },
    {
      "cell_type": "code",
      "source": [
        "# !pip install clean-text\n",
        "# !pip3 install tweepy\n",
        "# !pip3 install tweepy --upgrade\n",
        "import csv\n",
        "import tweepy\n",
        "import pandas as pd\n",
        "import re\n",
        "import matplotlib.pyplot as plt\n",
        "# from cleantext import clean"
      ],
      "metadata": {
        "id": "Kb9lt0a48npd"
      },
      "execution_count": 47,
      "outputs": []
    },
    {
      "cell_type": "code",
      "source": [
        "#Step 2: initiate your client\n",
        "client = tweepy.Client(bearer_token='AAAAAAAAAAAAAAAAAAAAAAl1hAEAAAAAra3%2BdGSwRPN3G2BB45Ea8fDSny4%3DXWlNMYMgowFpQWpqJGYjtjpZmUbYQxyrY3IZeRAddDCZm0S6Tm') # replace with your bearer token here."
      ],
      "metadata": {
        "id": "Y_8kTfir_lAA"
      },
      "execution_count": 3,
      "outputs": []
    },
    {
      "cell_type": "code",
      "source": [
        "#Step 3: collect some tweets related to 'Lego'\n",
        "query = 'Lego lang:en -is:retweet' # the query restricts the collected tweets to contain 'Lego', to be in English, and to not be re-tweets. \n",
        "tweets = client.search_recent_tweets(query=query, max_results=100) # we are using search_recent_tweets, to search for tweets in recent 7 days. Bring 10 tweets back.\n",
        "for tweet in tweets.data[:10]:\n",
        "    print(tweet.text)\n",
        "    print('-----------------------------')"
      ],
      "metadata": {
        "colab": {
          "base_uri": "https://localhost:8080/",
          "height": 0
        },
        "id": "BmFW3xqu_jLA",
        "outputId": "cf44aeb2-0d19-437f-adca-9b59f386244e"
      },
      "execution_count": 4,
      "outputs": [
        {
          "output_type": "stream",
          "name": "stdout",
          "text": [
            "@AcsStudios @Etheram2 That's for the movie so idk what they had in mind for that, but they don't have any confirmed races in the show, nor any other original Lego theme\n",
            "-----------------------------\n",
            "Interviews in person today for the first time in a v long time, it meant the Lego could come out for a group exercise considering our council behaviours 😀 https://t.co/YZ6zRd3csU\n",
            "-----------------------------\n",
            "Hmm 6 games 6 tags eh?\n",
            "\n",
            "Legend of zelda (any of them lol)\n",
            "Valorant\n",
            "Overwatch\n",
            "Dead by daylight\n",
            "Fall guys\n",
            "LEGO Star wars for sure\n",
            "\n",
            "@adonewithyou @cosmicquarts @RealJanieLouise @Brianne_hed @BadDonkeyJP @carzavol https://t.co/IyMEKM2lp3\n",
            "-----------------------------\n",
            "£18.98 &gt;&gt;&gt; FROM £29.99\n",
            ".\n",
            "PRICE DROP \n",
            ".\n",
            "https://t.co/6hN8T5pgMV\n",
            "-----------------------------\n",
            "i finally got the lego batmobile!!! https://t.co/uKsFmn2h5l\n",
            "-----------------------------\n",
            "A big shout out to all the year 7s, 8s and 9s who came to Lego club this lunch time. You were all amazing and thank you for creating our Lego club sign 👏\n",
            "Next week….who can build the longest and strongest bridge? \n",
            "Everyone welcome - Tuesday lunchtime 1pm in room 2 @Cansfield1 https://t.co/g2bh3jQt7c\n",
            "-----------------------------\n",
            "\"LEGO\" and \"LEGO Super Mario\" are separate playlists on Nintendo's channel. Could we be getting another LEGO Nintendo theme?\n",
            "\n",
            "https://t.co/Cp1a11r95D https://t.co/ANVVxwChY5\n",
            "-----------------------------\n",
            "also today we got another episode of a #Lego #Marvel superheroes variety, This week's episode features Asgard and the X-Men :D\n",
            "\n",
            "https://t.co/c6DWs4tyDe\n",
            "-----------------------------\n",
            "@bruhfunky u sound like that one prophecy mf from the lego movie https://t.co/TaQNCws6gT\n",
            "-----------------------------\n",
            "Clockwork Aquarium finally came in from BrickLink. Let's put it together! Tonight, 8pm central.\n",
            "\n",
            "https://t.co/mfaJlm2Lb3\n",
            "\n",
            "#twitch #smallstreamer #lego #bricklink #legodesign #afol https://t.co/iwbaSNQCMn\n",
            "-----------------------------\n"
          ]
        }
      ]
    },
    {
      "cell_type": "code",
      "source": [
        "query = 'Lego lang:en -is:retweet'\n",
        "tweets = list(tweepy.Paginator(client.search_recent_tweets, query=query, tweet_fields=['context_annotations', 'created_at'], max_results=100).flatten(limit=1000))\n",
        "print(\"{} tweets are collected.\".format(len(tweets))) # check the number of tweets we collected."
      ],
      "metadata": {
        "colab": {
          "base_uri": "https://localhost:8080/",
          "height": 0
        },
        "id": "oFPznMbp9E0q",
        "outputId": "30c5e024-82b7-4f1a-d8a3-ce999c39161d"
      },
      "execution_count": 5,
      "outputs": [
        {
          "output_type": "stream",
          "name": "stdout",
          "text": [
            "1000 tweets are collected.\n"
          ]
        }
      ]
    },
    {
      "cell_type": "code",
      "source": [
        "driveFolderDirectory = '/content/drive/My Drive/CS505/tweets.csv' \n",
        "pathToSave = driveFolderDirectory\n",
        "\n",
        "with open(pathToSave, 'w', newline='') as csvfile:\n",
        "  fieldnames = ['idx','tweetId', 'tweetText']\n",
        "  writer = csv.DictWriter(csvfile, fieldnames=fieldnames)\n",
        "  writer.writeheader()\n",
        "  for i,tweet in enumerate(tweets):\n",
        "    writer.writerow({'idx': i, 'tweetId': tweet.id,'tweetText': tweet.data['text']})"
      ],
      "metadata": {
        "id": "sqlHaAyh9Klr"
      },
      "execution_count": 6,
      "outputs": []
    },
    {
      "cell_type": "markdown",
      "source": [
        "### Task 1: Convert all capital letters into lower case."
      ],
      "metadata": {
        "id": "EfjkleFK9-l2"
      }
    },
    {
      "cell_type": "code",
      "source": [
        "tweets = pd.read_csv (r'/content/drive/My Drive/CS505/tweets.csv') # read the file into a data frame \n",
        "tweets.head(5) # check the first five rows"
      ],
      "metadata": {
        "id": "ys3dq5ZR-Dt5",
        "colab": {
          "base_uri": "https://localhost:8080/",
          "height": 206
        },
        "outputId": "516c57f2-5f76-4e18-ac1d-afdfb104f313"
      },
      "execution_count": 74,
      "outputs": [
        {
          "output_type": "execute_result",
          "data": {
            "text/plain": [
              "   idx              tweetId                                          tweetText\n",
              "0    0  1572279380075847681  🤖🧩 Orpheus Music Box 3D Wooden Puzzle Cool and...\n",
              "1    1  1572279277332361216  @AcsStudios @Etheram2 That's for the movie so ...\n",
              "2    2  1572279259779006467  Interviews in person today for the first time ...\n",
              "3    3  1572279240791560192  Hmm 6 games 6 tags eh?\\n\\nLegend of zelda (any...\n",
              "4    4  1572279212555530240  £18.98 &gt;&gt;&gt; FROM £29.99\\n.\\nPRICE DROP..."
            ],
            "text/html": [
              "\n",
              "  <div id=\"df-e7694856-c21e-41a0-a1f6-804252889610\">\n",
              "    <div class=\"colab-df-container\">\n",
              "      <div>\n",
              "<style scoped>\n",
              "    .dataframe tbody tr th:only-of-type {\n",
              "        vertical-align: middle;\n",
              "    }\n",
              "\n",
              "    .dataframe tbody tr th {\n",
              "        vertical-align: top;\n",
              "    }\n",
              "\n",
              "    .dataframe thead th {\n",
              "        text-align: right;\n",
              "    }\n",
              "</style>\n",
              "<table border=\"1\" class=\"dataframe\">\n",
              "  <thead>\n",
              "    <tr style=\"text-align: right;\">\n",
              "      <th></th>\n",
              "      <th>idx</th>\n",
              "      <th>tweetId</th>\n",
              "      <th>tweetText</th>\n",
              "    </tr>\n",
              "  </thead>\n",
              "  <tbody>\n",
              "    <tr>\n",
              "      <th>0</th>\n",
              "      <td>0</td>\n",
              "      <td>1572279380075847681</td>\n",
              "      <td>🤖🧩 Orpheus Music Box 3D Wooden Puzzle Cool and...</td>\n",
              "    </tr>\n",
              "    <tr>\n",
              "      <th>1</th>\n",
              "      <td>1</td>\n",
              "      <td>1572279277332361216</td>\n",
              "      <td>@AcsStudios @Etheram2 That's for the movie so ...</td>\n",
              "    </tr>\n",
              "    <tr>\n",
              "      <th>2</th>\n",
              "      <td>2</td>\n",
              "      <td>1572279259779006467</td>\n",
              "      <td>Interviews in person today for the first time ...</td>\n",
              "    </tr>\n",
              "    <tr>\n",
              "      <th>3</th>\n",
              "      <td>3</td>\n",
              "      <td>1572279240791560192</td>\n",
              "      <td>Hmm 6 games 6 tags eh?\\n\\nLegend of zelda (any...</td>\n",
              "    </tr>\n",
              "    <tr>\n",
              "      <th>4</th>\n",
              "      <td>4</td>\n",
              "      <td>1572279212555530240</td>\n",
              "      <td>£18.98 &amp;gt;&amp;gt;&amp;gt; FROM £29.99\\n.\\nPRICE DROP...</td>\n",
              "    </tr>\n",
              "  </tbody>\n",
              "</table>\n",
              "</div>\n",
              "      <button class=\"colab-df-convert\" onclick=\"convertToInteractive('df-e7694856-c21e-41a0-a1f6-804252889610')\"\n",
              "              title=\"Convert this dataframe to an interactive table.\"\n",
              "              style=\"display:none;\">\n",
              "        \n",
              "  <svg xmlns=\"http://www.w3.org/2000/svg\" height=\"24px\"viewBox=\"0 0 24 24\"\n",
              "       width=\"24px\">\n",
              "    <path d=\"M0 0h24v24H0V0z\" fill=\"none\"/>\n",
              "    <path d=\"M18.56 5.44l.94 2.06.94-2.06 2.06-.94-2.06-.94-.94-2.06-.94 2.06-2.06.94zm-11 1L8.5 8.5l.94-2.06 2.06-.94-2.06-.94L8.5 2.5l-.94 2.06-2.06.94zm10 10l.94 2.06.94-2.06 2.06-.94-2.06-.94-.94-2.06-.94 2.06-2.06.94z\"/><path d=\"M17.41 7.96l-1.37-1.37c-.4-.4-.92-.59-1.43-.59-.52 0-1.04.2-1.43.59L10.3 9.45l-7.72 7.72c-.78.78-.78 2.05 0 2.83L4 21.41c.39.39.9.59 1.41.59.51 0 1.02-.2 1.41-.59l7.78-7.78 2.81-2.81c.8-.78.8-2.07 0-2.86zM5.41 20L4 18.59l7.72-7.72 1.47 1.35L5.41 20z\"/>\n",
              "  </svg>\n",
              "      </button>\n",
              "      \n",
              "  <style>\n",
              "    .colab-df-container {\n",
              "      display:flex;\n",
              "      flex-wrap:wrap;\n",
              "      gap: 12px;\n",
              "    }\n",
              "\n",
              "    .colab-df-convert {\n",
              "      background-color: #E8F0FE;\n",
              "      border: none;\n",
              "      border-radius: 50%;\n",
              "      cursor: pointer;\n",
              "      display: none;\n",
              "      fill: #1967D2;\n",
              "      height: 32px;\n",
              "      padding: 0 0 0 0;\n",
              "      width: 32px;\n",
              "    }\n",
              "\n",
              "    .colab-df-convert:hover {\n",
              "      background-color: #E2EBFA;\n",
              "      box-shadow: 0px 1px 2px rgba(60, 64, 67, 0.3), 0px 1px 3px 1px rgba(60, 64, 67, 0.15);\n",
              "      fill: #174EA6;\n",
              "    }\n",
              "\n",
              "    [theme=dark] .colab-df-convert {\n",
              "      background-color: #3B4455;\n",
              "      fill: #D2E3FC;\n",
              "    }\n",
              "\n",
              "    [theme=dark] .colab-df-convert:hover {\n",
              "      background-color: #434B5C;\n",
              "      box-shadow: 0px 1px 3px 1px rgba(0, 0, 0, 0.15);\n",
              "      filter: drop-shadow(0px 1px 2px rgba(0, 0, 0, 0.3));\n",
              "      fill: #FFFFFF;\n",
              "    }\n",
              "  </style>\n",
              "\n",
              "      <script>\n",
              "        const buttonEl =\n",
              "          document.querySelector('#df-e7694856-c21e-41a0-a1f6-804252889610 button.colab-df-convert');\n",
              "        buttonEl.style.display =\n",
              "          google.colab.kernel.accessAllowed ? 'block' : 'none';\n",
              "\n",
              "        async function convertToInteractive(key) {\n",
              "          const element = document.querySelector('#df-e7694856-c21e-41a0-a1f6-804252889610');\n",
              "          const dataTable =\n",
              "            await google.colab.kernel.invokeFunction('convertToInteractive',\n",
              "                                                     [key], {});\n",
              "          if (!dataTable) return;\n",
              "\n",
              "          const docLinkHtml = 'Like what you see? Visit the ' +\n",
              "            '<a target=\"_blank\" href=https://colab.research.google.com/notebooks/data_table.ipynb>data table notebook</a>'\n",
              "            + ' to learn more about interactive tables.';\n",
              "          element.innerHTML = '';\n",
              "          dataTable['output_type'] = 'display_data';\n",
              "          await google.colab.output.renderOutput(dataTable, element);\n",
              "          const docLink = document.createElement('div');\n",
              "          docLink.innerHTML = docLinkHtml;\n",
              "          element.appendChild(docLink);\n",
              "        }\n",
              "      </script>\n",
              "    </div>\n",
              "  </div>\n",
              "  "
            ]
          },
          "metadata": {},
          "execution_count": 74
        }
      ]
    },
    {
      "cell_type": "code",
      "source": [
        "# convert all capital letters into lower case\n",
        "tweets[\"tweetText\"] = tweets[\"tweetText\"].str.lower()\n",
        "tweets.head(5) # examine"
      ],
      "metadata": {
        "colab": {
          "base_uri": "https://localhost:8080/",
          "height": 206
        },
        "id": "mi4mMB1-LYwY",
        "outputId": "35cbfe88-1343-4f0d-fb93-f0949446009e"
      },
      "execution_count": 75,
      "outputs": [
        {
          "output_type": "execute_result",
          "data": {
            "text/plain": [
              "   idx              tweetId                                          tweetText\n",
              "0    0  1572279380075847681  🤖🧩 orpheus music box 3d wooden puzzle cool and...\n",
              "1    1  1572279277332361216  @acsstudios @etheram2 that's for the movie so ...\n",
              "2    2  1572279259779006467  interviews in person today for the first time ...\n",
              "3    3  1572279240791560192  hmm 6 games 6 tags eh?\\n\\nlegend of zelda (any...\n",
              "4    4  1572279212555530240  £18.98 &gt;&gt;&gt; from £29.99\\n.\\nprice drop..."
            ],
            "text/html": [
              "\n",
              "  <div id=\"df-fcbf2aaf-7e30-4c46-9122-d6c6c6d34dd6\">\n",
              "    <div class=\"colab-df-container\">\n",
              "      <div>\n",
              "<style scoped>\n",
              "    .dataframe tbody tr th:only-of-type {\n",
              "        vertical-align: middle;\n",
              "    }\n",
              "\n",
              "    .dataframe tbody tr th {\n",
              "        vertical-align: top;\n",
              "    }\n",
              "\n",
              "    .dataframe thead th {\n",
              "        text-align: right;\n",
              "    }\n",
              "</style>\n",
              "<table border=\"1\" class=\"dataframe\">\n",
              "  <thead>\n",
              "    <tr style=\"text-align: right;\">\n",
              "      <th></th>\n",
              "      <th>idx</th>\n",
              "      <th>tweetId</th>\n",
              "      <th>tweetText</th>\n",
              "    </tr>\n",
              "  </thead>\n",
              "  <tbody>\n",
              "    <tr>\n",
              "      <th>0</th>\n",
              "      <td>0</td>\n",
              "      <td>1572279380075847681</td>\n",
              "      <td>🤖🧩 orpheus music box 3d wooden puzzle cool and...</td>\n",
              "    </tr>\n",
              "    <tr>\n",
              "      <th>1</th>\n",
              "      <td>1</td>\n",
              "      <td>1572279277332361216</td>\n",
              "      <td>@acsstudios @etheram2 that's for the movie so ...</td>\n",
              "    </tr>\n",
              "    <tr>\n",
              "      <th>2</th>\n",
              "      <td>2</td>\n",
              "      <td>1572279259779006467</td>\n",
              "      <td>interviews in person today for the first time ...</td>\n",
              "    </tr>\n",
              "    <tr>\n",
              "      <th>3</th>\n",
              "      <td>3</td>\n",
              "      <td>1572279240791560192</td>\n",
              "      <td>hmm 6 games 6 tags eh?\\n\\nlegend of zelda (any...</td>\n",
              "    </tr>\n",
              "    <tr>\n",
              "      <th>4</th>\n",
              "      <td>4</td>\n",
              "      <td>1572279212555530240</td>\n",
              "      <td>£18.98 &amp;gt;&amp;gt;&amp;gt; from £29.99\\n.\\nprice drop...</td>\n",
              "    </tr>\n",
              "  </tbody>\n",
              "</table>\n",
              "</div>\n",
              "      <button class=\"colab-df-convert\" onclick=\"convertToInteractive('df-fcbf2aaf-7e30-4c46-9122-d6c6c6d34dd6')\"\n",
              "              title=\"Convert this dataframe to an interactive table.\"\n",
              "              style=\"display:none;\">\n",
              "        \n",
              "  <svg xmlns=\"http://www.w3.org/2000/svg\" height=\"24px\"viewBox=\"0 0 24 24\"\n",
              "       width=\"24px\">\n",
              "    <path d=\"M0 0h24v24H0V0z\" fill=\"none\"/>\n",
              "    <path d=\"M18.56 5.44l.94 2.06.94-2.06 2.06-.94-2.06-.94-.94-2.06-.94 2.06-2.06.94zm-11 1L8.5 8.5l.94-2.06 2.06-.94-2.06-.94L8.5 2.5l-.94 2.06-2.06.94zm10 10l.94 2.06.94-2.06 2.06-.94-2.06-.94-.94-2.06-.94 2.06-2.06.94z\"/><path d=\"M17.41 7.96l-1.37-1.37c-.4-.4-.92-.59-1.43-.59-.52 0-1.04.2-1.43.59L10.3 9.45l-7.72 7.72c-.78.78-.78 2.05 0 2.83L4 21.41c.39.39.9.59 1.41.59.51 0 1.02-.2 1.41-.59l7.78-7.78 2.81-2.81c.8-.78.8-2.07 0-2.86zM5.41 20L4 18.59l7.72-7.72 1.47 1.35L5.41 20z\"/>\n",
              "  </svg>\n",
              "      </button>\n",
              "      \n",
              "  <style>\n",
              "    .colab-df-container {\n",
              "      display:flex;\n",
              "      flex-wrap:wrap;\n",
              "      gap: 12px;\n",
              "    }\n",
              "\n",
              "    .colab-df-convert {\n",
              "      background-color: #E8F0FE;\n",
              "      border: none;\n",
              "      border-radius: 50%;\n",
              "      cursor: pointer;\n",
              "      display: none;\n",
              "      fill: #1967D2;\n",
              "      height: 32px;\n",
              "      padding: 0 0 0 0;\n",
              "      width: 32px;\n",
              "    }\n",
              "\n",
              "    .colab-df-convert:hover {\n",
              "      background-color: #E2EBFA;\n",
              "      box-shadow: 0px 1px 2px rgba(60, 64, 67, 0.3), 0px 1px 3px 1px rgba(60, 64, 67, 0.15);\n",
              "      fill: #174EA6;\n",
              "    }\n",
              "\n",
              "    [theme=dark] .colab-df-convert {\n",
              "      background-color: #3B4455;\n",
              "      fill: #D2E3FC;\n",
              "    }\n",
              "\n",
              "    [theme=dark] .colab-df-convert:hover {\n",
              "      background-color: #434B5C;\n",
              "      box-shadow: 0px 1px 3px 1px rgba(0, 0, 0, 0.15);\n",
              "      filter: drop-shadow(0px 1px 2px rgba(0, 0, 0, 0.3));\n",
              "      fill: #FFFFFF;\n",
              "    }\n",
              "  </style>\n",
              "\n",
              "      <script>\n",
              "        const buttonEl =\n",
              "          document.querySelector('#df-fcbf2aaf-7e30-4c46-9122-d6c6c6d34dd6 button.colab-df-convert');\n",
              "        buttonEl.style.display =\n",
              "          google.colab.kernel.accessAllowed ? 'block' : 'none';\n",
              "\n",
              "        async function convertToInteractive(key) {\n",
              "          const element = document.querySelector('#df-fcbf2aaf-7e30-4c46-9122-d6c6c6d34dd6');\n",
              "          const dataTable =\n",
              "            await google.colab.kernel.invokeFunction('convertToInteractive',\n",
              "                                                     [key], {});\n",
              "          if (!dataTable) return;\n",
              "\n",
              "          const docLinkHtml = 'Like what you see? Visit the ' +\n",
              "            '<a target=\"_blank\" href=https://colab.research.google.com/notebooks/data_table.ipynb>data table notebook</a>'\n",
              "            + ' to learn more about interactive tables.';\n",
              "          element.innerHTML = '';\n",
              "          dataTable['output_type'] = 'display_data';\n",
              "          await google.colab.output.renderOutput(dataTable, element);\n",
              "          const docLink = document.createElement('div');\n",
              "          docLink.innerHTML = docLinkHtml;\n",
              "          element.appendChild(docLink);\n",
              "        }\n",
              "      </script>\n",
              "    </div>\n",
              "  </div>\n",
              "  "
            ]
          },
          "metadata": {},
          "execution_count": 75
        }
      ]
    },
    {
      "cell_type": "markdown",
      "source": [
        "### Task 2: Remove from the text all hashtags, all URLs, and all numbers (e.g., prices, floating-point, integers, etc.)."
      ],
      "metadata": {
        "id": "jFcLggCV-MbL"
      }
    },
    {
      "cell_type": "code",
      "source": [
        "# remove hashtags @[A-Za-z0-9_]+\n",
        "# remove tags #[A-Za-z0-9_]+\n",
        "# remove URLs \\S*https?:\\S*\n",
        "# remove all numbers (\\$)?([0-9]+)?(\\.)?([0-9]+)?\n",
        "\n",
        "clean_tweet1 = []\n",
        "for i in tweets[\"tweetText\"]:\n",
        "    clean_tweet1.append(re.sub((\"@[A-Za-z0-9_]+|#[A-Za-z0-9_]+|(\\$)?([0-9]+)?(\\.)?([0-9]+)?\"),\"\", i))\n",
        "\n",
        "clean_tweet2 = []\n",
        "for i in clean_tweet1:\n",
        "    clean_tweet2.append(re.sub((r\"\\S*https?:\\S*\"),\"\", i))"
      ],
      "metadata": {
        "id": "1b886fbqMDm0"
      },
      "execution_count": 76,
      "outputs": []
    },
    {
      "cell_type": "code",
      "source": [
        "#  examine the text file to see what form these are in.\n",
        "tweets[\"tweetText\"] = clean_tweet2\n",
        "tweets[\"tweetText\"].head(5)"
      ],
      "metadata": {
        "id": "6L3aXTR--QGG",
        "colab": {
          "base_uri": "https://localhost:8080/",
          "height": 0
        },
        "outputId": "84c7fcb0-adac-40cc-8f8e-05fa092cdc06"
      },
      "execution_count": 77,
      "outputs": [
        {
          "output_type": "execute_result",
          "data": {
            "text/plain": [
              "0    🤖🧩 orpheus music box d wooden puzzle cool and ...\n",
              "1      that's for the movie so idk what they had in...\n",
              "2    interviews in person today for the first time ...\n",
              "3    hmm  games  tags eh?\\n\\nlegend of zelda (any o...\n",
              "4             £ &gt;&gt;&gt; from £\\n\\nprice drop \\n\\n\n",
              "Name: tweetText, dtype: object"
            ]
          },
          "metadata": {},
          "execution_count": 77
        }
      ]
    },
    {
      "cell_type": "markdown",
      "source": [
        "### Task 3: Remove the affixes -ing, -ed, and -ly from all words."
      ],
      "metadata": {
        "id": "quv_uVip-ZSf"
      }
    },
    {
      "cell_type": "code",
      "source": [
        "clean_tweet3 = []\n",
        "for i in tweets[\"tweetText\"]:\n",
        "    clean_tweet3.append(re.sub((\"ing|ed|ly\"),\"\", i))\n",
        "\n",
        "tweets[\"tweetText\"] = clean_tweet3\n",
        "tweets[\"tweetText\"].head(5)"
      ],
      "metadata": {
        "id": "C-pS4j6w-cHF",
        "colab": {
          "base_uri": "https://localhost:8080/",
          "height": 0
        },
        "outputId": "2ea75d34-2d80-4822-ff1c-2f372c28598e"
      },
      "execution_count": 78,
      "outputs": [
        {
          "output_type": "execute_result",
          "data": {
            "text/plain": [
              "0    🤖🧩 orpheus music box d wooden puzzle cool and ...\n",
              "1      that's for the movie so idk what they had in...\n",
              "2    interviews in person today for the first time ...\n",
              "3    hmm  games  tags eh?\\n\\nlegend of zelda (any o...\n",
              "4             £ &gt;&gt;&gt; from £\\n\\nprice drop \\n\\n\n",
              "Name: tweetText, dtype: object"
            ]
          },
          "metadata": {},
          "execution_count": 78
        }
      ]
    },
    {
      "cell_type": "markdown",
      "source": [
        "### Task 4: Replace all forms of the verb “to be” with the stem be."
      ],
      "metadata": {
        "id": "mAck-92D-dfu"
      }
    },
    {
      "cell_type": "code",
      "source": [
        "# home school yours his her its ours their?\n",
        "# to home|to school|to yours|to his|to her|to its|to ours|to their?\n",
        "\n",
        "clean_tweet4 = []\n",
        "for i in tweets[\"tweetText\"]:\n",
        "    clean_tweet4.append(re.sub((\"to \"),\"\", i))\n",
        "\n",
        "tweets[\"tweetText\"] = clean_tweet4\n",
        "tweets[\"tweetText\"].head(5)"
      ],
      "metadata": {
        "id": "9d3vo1yC-f-2",
        "colab": {
          "base_uri": "https://localhost:8080/",
          "height": 0
        },
        "outputId": "b4411489-0944-4a56-f6b9-9aa22f6d7807"
      },
      "execution_count": 79,
      "outputs": [
        {
          "output_type": "execute_result",
          "data": {
            "text/plain": [
              "0    🤖🧩 orpheus music box d wooden puzzle cool and ...\n",
              "1      that's for the movie so idk what they had in...\n",
              "2    interviews in person today for the first time ...\n",
              "3    hmm  games  tags eh?\\n\\nlegend of zelda (any o...\n",
              "4             £ &gt;&gt;&gt; from £\\n\\nprice drop \\n\\n\n",
              "Name: tweetText, dtype: object"
            ]
          },
          "metadata": {},
          "execution_count": 79
        }
      ]
    },
    {
      "cell_type": "markdown",
      "source": [
        "### Task 5: (Removing stop words) Remove all instances of the 10 most common words in English"
      ],
      "metadata": {
        "id": "s8uRozG0-gWt"
      }
    },
    {
      "cell_type": "code",
      "source": [
        "# 10 most common words from the list here: https://en.wikipedia.org/wiki/Most_common_words_in_English.\n",
        "\n",
        "clean_tweet5 = []\n",
        "for i in tweets['tweetText']:\n",
        "    clean_tweet5.append(re.sub(r'the |be |to |of |and |a |in |that |have |i ', '', i))\n",
        "\n",
        "tweets[\"tweetText\"] = clean_tweet5\n",
        "tweets[\"tweetText\"].head(5)"
      ],
      "metadata": {
        "id": "EIAdMDg6-rqI",
        "colab": {
          "base_uri": "https://localhost:8080/",
          "height": 0
        },
        "outputId": "0c917845-904a-4cdd-f9a6-4a6b29e222e1"
      },
      "execution_count": 80,
      "outputs": [
        {
          "output_type": "execute_result",
          "data": {
            "text/plain": [
              "0    🤖🧩 orpheus music box d wooden puzzle cool uniq...\n",
              "1      that's for movie so idk what they had mind f...\n",
              "2    interviews person today for first time v long ...\n",
              "3    hmm  games  tags eh?\\n\\nlegend zeld(any them l...\n",
              "4             £ &gt;&gt;&gt; from £\\n\\nprice drop \\n\\n\n",
              "Name: tweetText, dtype: object"
            ]
          },
          "metadata": {},
          "execution_count": 80
        }
      ]
    },
    {
      "cell_type": "markdown",
      "source": [
        "### Task 6: Remove emoji and other strange symbols."
      ],
      "metadata": {
        "id": "qlStE6ah-wfm"
      }
    },
    {
      "cell_type": "markdown",
      "source": [
        "Firstly, in the former text, there are many \"&gt;\", which is greater-than sign. Since they are meaningless in the future analysis, I removed them."
      ],
      "metadata": {
        "id": "C6O_PW53CPSs"
      }
    },
    {
      "cell_type": "code",
      "source": [
        "clean_tweet6 = []\n",
        "for i in tweets['tweetText']:\n",
        "    clean_tweet6.append(re.sub(r'&gt;', '', i))\n",
        "tweets[\"tweetText\"] = clean_tweet6"
      ],
      "metadata": {
        "id": "HAa-I1whDOmf"
      },
      "execution_count": 81,
      "outputs": []
    },
    {
      "cell_type": "markdown",
      "source": [
        "Also, there are many emoji and some strange symbols instead of text, which are not suitable for language processing. Furthermore, we are supposed to break them into words and sentences, therefore, I decided to remove them from the text. "
      ],
      "metadata": {
        "id": "Z7xc2z-aDBH6"
      }
    },
    {
      "cell_type": "code",
      "source": [
        "# remove emoji and other strange symbols.\n",
        "# print(clean(tweets[\"tweetText\"], no_emoji=True))\n",
        "clean_tweet6 = []\n",
        "for i in tweets[\"tweetText\"]:\n",
        "    clean_tweet6.append(re.sub(r'[^a-zA-Z,.?!():;\\'\"]', ' ', i))\n",
        "\n",
        "tweets[\"tweetText\"] = clean_tweet6\n",
        "tweets[\"tweetText\"].head(5)"
      ],
      "metadata": {
        "id": "ha6OnKEk-2Am",
        "colab": {
          "base_uri": "https://localhost:8080/",
          "height": 0
        },
        "outputId": "684bcebb-ec5e-4745-b207-ec3ee6af28d4"
      },
      "execution_count": 82,
      "outputs": [
        {
          "output_type": "execute_result",
          "data": {
            "text/plain": [
              "0       orpheus music box d wooden puzzle cool uniq...\n",
              "1      that's for movie so idk what they had mind f...\n",
              "2    interviews person today for first time v long ...\n",
              "3    hmm  games  tags eh?  legend zeld(any them lol...\n",
              "4                                from    price drop   \n",
              "Name: tweetText, dtype: object"
            ]
          },
          "metadata": {},
          "execution_count": 82
        }
      ]
    },
    {
      "cell_type": "markdown",
      "source": [
        "### Task 7: Break the data into tokens (words) and sentences and remove all characters which are not lower-case letters."
      ],
      "metadata": {
        "id": "9Uyxc2fM-2WF"
      }
    },
    {
      "cell_type": "code",
      "source": [
        "def my_sent_tokenize(text):\n",
        "  tokens = re.split('[;.?!]', text)\n",
        "  return(tokens)\n",
        "\n",
        "def my_word_tokenize(text):\n",
        "  tokens = re.split(r\"\\s+\", text)\n",
        "  tokens = list(filter(None, tokens))\n",
        "  return(tokens)"
      ],
      "metadata": {
        "id": "Klrlfl3hN1M1"
      },
      "execution_count": 108,
      "outputs": []
    },
    {
      "cell_type": "code",
      "source": [
        "broken_text = []\n",
        "for str in tweets['tweetText']: \n",
        "  txt = my_sent_tokenize(str)\n",
        "  for sent in txt: \n",
        "    temp = my_word_tokenize(sent)\n",
        "    broken_text.append(temp)"
      ],
      "metadata": {
        "id": "Zlt375kyTDjz"
      },
      "execution_count": 109,
      "outputs": []
    },
    {
      "cell_type": "markdown",
      "source": [
        "### Task 8: Display a histogram of the length of the sentences in your data"
      ],
      "metadata": {
        "id": "NJ800tXF-36c"
      }
    },
    {
      "cell_type": "code",
      "source": [
        "lengths = []\n",
        "for lst in broken_text: \n",
        "  lengths.append(len(lst))\n",
        "num_bins = 40\n",
        "n, bins, patches = plt.hist(lengths, 100, color ='purple', density = 1, alpha = .7)\n",
        "plt.title('Distribution of sentences lengths', fontweight =\"bold\")\n",
        "plt.show()"
      ],
      "metadata": {
        "colab": {
          "base_uri": "https://localhost:8080/",
          "height": 281
        },
        "id": "GC_QJ8JHLiNY",
        "outputId": "b893ae31-5194-4abb-b76d-7f273597dd86"
      },
      "execution_count": 112,
      "outputs": [
        {
          "output_type": "display_data",
          "data": {
            "text/plain": [
              "<Figure size 432x288 with 1 Axes>"
            ],
            "image/png": "[encoded data removed]"
          },
          "metadata": {
            "needs_background": "light"
          }
        }
      ]
    }
  ]
}